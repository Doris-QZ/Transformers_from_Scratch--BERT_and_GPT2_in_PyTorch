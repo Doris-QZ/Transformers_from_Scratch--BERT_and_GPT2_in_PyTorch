{
  "nbformat": 4,
  "nbformat_minor": 0,
  "metadata": {
    "colab": {
      "provenance": [],
      "gpuType": "T4",
      "authorship_tag": "ABX9TyNFoOBUsCHCP44KJ0XKKHvJ",
      "include_colab_link": true
    },
    "kernelspec": {
      "name": "python3",
      "display_name": "Python 3"
    },
    "language_info": {
      "name": "python"
    },
    "accelerator": "GPU"
  },
  "cells": [
    {
      "cell_type": "markdown",
      "metadata": {
        "id": "view-in-github",
        "colab_type": "text"
      },
      "source": [
        "<a href=\"https://colab.research.google.com/github/Doris-QZ/Transformers_from_Scratch--BERT_and_GPT2_in_PyTorch/blob/main/2_Reproducing_BERT_Model_from_Scratch_using_PyTorch.ipynb\" target=\"_parent\"><img src=\"https://colab.research.google.com/assets/colab-badge.svg\" alt=\"Open In Colab\"/></a>"
      ]
    },
    {
      "cell_type": "markdown",
      "source": [
        "### Introduction\n",
        "\n",
        "This notebook builds the **BERT architecture from scratch in PyTorch** to gain a deeper understanding of how the model works internally. The workflow includes:\n",
        "\n",
        "* **Data Preparation**: load the processed data from `1. Data For BERT.ipynb` into PyTorch `Dataset`, and wrap it in a `DataLoader`.\n",
        "* **Model Implementation**: outline the BERT architecture and implement it using the BERT_base configuration.\n",
        "* **Training**: train the model for **one epoch** on the prepared dataset, and report the **training and test loss** to verify the end-to-end implementation.\n"
      ],
      "metadata": {
        "id": "2spTJgAiEamv"
      }
    },
    {
      "cell_type": "code",
      "execution_count": null,
      "metadata": {
        "id": "VxoI6WH8bIoB"
      },
      "outputs": [],
      "source": [
        "import math\n",
        "import pandas as pd\n",
        "from sklearn.model_selection import train_test_split\n",
        "import copy\n",
        "\n",
        "import torch\n",
        "from torch import nn\n",
        "from torch.utils.data import Dataset, DataLoader\n",
        "from torch.nn.utils.rnn import pad_sequence\n",
        "from torch.optim import Adam\n",
        "\n",
        "import transformers\n",
        "from transformers import get_linear_schedule_with_warmup"
      ]
    },
    {
      "cell_type": "code",
      "source": [
        "# Use GPU when it's available\n",
        "device = 'cuda' if torch.cuda.is_available() else 'cpu'\n",
        "device"
      ],
      "metadata": {
        "colab": {
          "base_uri": "https://localhost:8080/",
          "height": 35
        },
        "id": "okcvVNxufh8R",
        "outputId": "ab30a16d-1159-4560-83e0-4fa9743f7ba6"
      },
      "execution_count": null,
      "outputs": [
        {
          "output_type": "execute_result",
          "data": {
            "text/plain": [
              "'cuda'"
            ],
            "application/vnd.google.colaboratory.intrinsic+json": {
              "type": "string"
            }
          },
          "metadata": {},
          "execution_count": 2
        }
      ]
    },
    {
      "cell_type": "markdown",
      "source": [
        "### Data Preparation\n",
        "\n",
        "First, we load the data processed in `1. Data For BERT.ipynb`."
      ],
      "metadata": {
        "id": "U3e5rgCbD87v"
      }
    },
    {
      "cell_type": "code",
      "source": [
        "# Load the data\n",
        "imdb = pd.read_csv('/content/imdb_bert_data.csv', engine='python')\n",
        "\n",
        "# Take a look at the data\n",
        "imdb.info()\n",
        "imdb.head()"
      ],
      "metadata": {
        "colab": {
          "base_uri": "https://localhost:8080/",
          "height": 414
        },
        "id": "ae7CKzkRzMNQ",
        "outputId": "a5bdc046-c919-40bb-ef1f-0e15cd2320ca"
      },
      "execution_count": null,
      "outputs": [
        {
          "output_type": "stream",
          "name": "stdout",
          "text": [
            "<class 'pandas.core.frame.DataFrame'>\n",
            "RangeIndex: 197647 entries, 0 to 197646\n",
            "Data columns (total 5 columns):\n",
            " #   Column          Non-Null Count   Dtype \n",
            "---  ------          --------------   ----- \n",
            " 0   input_ids       197647 non-null  object\n",
            " 1   token_type_ids  197647 non-null  object\n",
            " 2   attention_mask  197647 non-null  object\n",
            " 3   mlm_labels      197647 non-null  object\n",
            " 4   nsp_labels      197647 non-null  int64 \n",
            "dtypes: int64(1), object(4)\n",
            "memory usage: 7.5+ MB\n"
          ]
        },
        {
          "output_type": "execute_result",
          "data": {
            "text/plain": [
              "                                           input_ids  \\\n",
              "0  [101, 103, 4872, 2017, 2008, 2065, 2017, 2123,...   \n",
              "1  [101, 12703, 2024, 25506, 1998, 1996, 5896, 20...   \n",
              "2  [101, 13109, 103, 6562, 1010, 6854, 2174, 1010...   \n",
              "3  [101, 1026, 7987, 1013, 1028, 1026, 7987, 1013...   \n",
              "4  [101, 7051, 1005, 1000, 1996, 8841, 2158, 1000...   \n",
              "\n",
              "                                      token_type_ids  \\\n",
              "0  [0, 0, 0, 0, 0, 0, 0, 0, 0, 0, 0, 0, 0, 0, 0, ...   \n",
              "1  [0, 0, 0, 0, 0, 0, 0, 0, 0, 0, 0, 0, 1, 1, 1, ...   \n",
              "2  [0, 0, 0, 0, 0, 0, 0, 0, 0, 0, 0, 0, 0, 0, 0, ...   \n",
              "3  [0, 0, 0, 0, 0, 0, 0, 0, 0, 0, 0, 0, 0, 0, 0, ...   \n",
              "4  [0, 0, 0, 0, 0, 0, 0, 0, 0, 0, 1, 1, 1, 1, 1, ...   \n",
              "\n",
              "                                      attention_mask  \\\n",
              "0  [1, 1, 1, 1, 1, 1, 1, 1, 1, 1, 1, 1, 1, 1, 1, ...   \n",
              "1  [1, 1, 1, 1, 1, 1, 1, 1, 1, 1, 1, 1, 1, 1, 1, ...   \n",
              "2  [1, 1, 1, 1, 1, 1, 1, 1, 1, 1, 1, 1, 1, 1, 1, ...   \n",
              "3  [1, 1, 1, 1, 1, 1, 1, 1, 1, 1, 1, 1, 1, 1, 1, ...   \n",
              "4  [1, 1, 1, 1, 1, 1, 1, 1, 1, 1, 1, 1, 1, 1, 1, ...   \n",
              "\n",
              "                                          mlm_labels  nsp_labels  \n",
              "0  [0, 1045, 0, 0, 0, 0, 0, 0, 0, 1056, 0, 0, 0, ...           0  \n",
              "1  [0, 0, 0, 0, 0, 0, 0, 0, 0, 0, 0, 0, 0, 0, 0, ...           1  \n",
              "2  [0, 0, 6633, 0, 0, 0, 0, 0, 0, 0, 0, 0, 0, 0, ...           0  \n",
              "3  [0, 0, 0, 0, 0, 0, 0, 0, 0, 1996, 0, 0, 0, 0, ...           0  \n",
              "4  [0, 0, 0, 0, 0, 0, 0, 0, 1029, 0, 2053, 0, 0, ...           0  "
            ],
            "text/html": [
              "\n",
              "  <div id=\"df-ad450b59-e074-4b77-b0b3-a81b2080def8\" class=\"colab-df-container\">\n",
              "    <div>\n",
              "<style scoped>\n",
              "    .dataframe tbody tr th:only-of-type {\n",
              "        vertical-align: middle;\n",
              "    }\n",
              "\n",
              "    .dataframe tbody tr th {\n",
              "        vertical-align: top;\n",
              "    }\n",
              "\n",
              "    .dataframe thead th {\n",
              "        text-align: right;\n",
              "    }\n",
              "</style>\n",
              "<table border=\"1\" class=\"dataframe\">\n",
              "  <thead>\n",
              "    <tr style=\"text-align: right;\">\n",
              "      <th></th>\n",
              "      <th>input_ids</th>\n",
              "      <th>token_type_ids</th>\n",
              "      <th>attention_mask</th>\n",
              "      <th>mlm_labels</th>\n",
              "      <th>nsp_labels</th>\n",
              "    </tr>\n",
              "  </thead>\n",
              "  <tbody>\n",
              "    <tr>\n",
              "      <th>0</th>\n",
              "      <td>[101, 103, 4872, 2017, 2008, 2065, 2017, 2123,...</td>\n",
              "      <td>[0, 0, 0, 0, 0, 0, 0, 0, 0, 0, 0, 0, 0, 0, 0, ...</td>\n",
              "      <td>[1, 1, 1, 1, 1, 1, 1, 1, 1, 1, 1, 1, 1, 1, 1, ...</td>\n",
              "      <td>[0, 1045, 0, 0, 0, 0, 0, 0, 0, 1056, 0, 0, 0, ...</td>\n",
              "      <td>0</td>\n",
              "    </tr>\n",
              "    <tr>\n",
              "      <th>1</th>\n",
              "      <td>[101, 12703, 2024, 25506, 1998, 1996, 5896, 20...</td>\n",
              "      <td>[0, 0, 0, 0, 0, 0, 0, 0, 0, 0, 0, 0, 1, 1, 1, ...</td>\n",
              "      <td>[1, 1, 1, 1, 1, 1, 1, 1, 1, 1, 1, 1, 1, 1, 1, ...</td>\n",
              "      <td>[0, 0, 0, 0, 0, 0, 0, 0, 0, 0, 0, 0, 0, 0, 0, ...</td>\n",
              "      <td>1</td>\n",
              "    </tr>\n",
              "    <tr>\n",
              "      <th>2</th>\n",
              "      <td>[101, 13109, 103, 6562, 1010, 6854, 2174, 1010...</td>\n",
              "      <td>[0, 0, 0, 0, 0, 0, 0, 0, 0, 0, 0, 0, 0, 0, 0, ...</td>\n",
              "      <td>[1, 1, 1, 1, 1, 1, 1, 1, 1, 1, 1, 1, 1, 1, 1, ...</td>\n",
              "      <td>[0, 0, 6633, 0, 0, 0, 0, 0, 0, 0, 0, 0, 0, 0, ...</td>\n",
              "      <td>0</td>\n",
              "    </tr>\n",
              "    <tr>\n",
              "      <th>3</th>\n",
              "      <td>[101, 1026, 7987, 1013, 1028, 1026, 7987, 1013...</td>\n",
              "      <td>[0, 0, 0, 0, 0, 0, 0, 0, 0, 0, 0, 0, 0, 0, 0, ...</td>\n",
              "      <td>[1, 1, 1, 1, 1, 1, 1, 1, 1, 1, 1, 1, 1, 1, 1, ...</td>\n",
              "      <td>[0, 0, 0, 0, 0, 0, 0, 0, 0, 1996, 0, 0, 0, 0, ...</td>\n",
              "      <td>0</td>\n",
              "    </tr>\n",
              "    <tr>\n",
              "      <th>4</th>\n",
              "      <td>[101, 7051, 1005, 1000, 1996, 8841, 2158, 1000...</td>\n",
              "      <td>[0, 0, 0, 0, 0, 0, 0, 0, 0, 0, 1, 1, 1, 1, 1, ...</td>\n",
              "      <td>[1, 1, 1, 1, 1, 1, 1, 1, 1, 1, 1, 1, 1, 1, 1, ...</td>\n",
              "      <td>[0, 0, 0, 0, 0, 0, 0, 0, 1029, 0, 2053, 0, 0, ...</td>\n",
              "      <td>0</td>\n",
              "    </tr>\n",
              "  </tbody>\n",
              "</table>\n",
              "</div>\n",
              "    <div class=\"colab-df-buttons\">\n",
              "\n",
              "  <div class=\"colab-df-container\">\n",
              "    <button class=\"colab-df-convert\" onclick=\"convertToInteractive('df-ad450b59-e074-4b77-b0b3-a81b2080def8')\"\n",
              "            title=\"Convert this dataframe to an interactive table.\"\n",
              "            style=\"display:none;\">\n",
              "\n",
              "  <svg xmlns=\"http://www.w3.org/2000/svg\" height=\"24px\" viewBox=\"0 -960 960 960\">\n",
              "    <path d=\"M120-120v-720h720v720H120Zm60-500h600v-160H180v160Zm220 220h160v-160H400v160Zm0 220h160v-160H400v160ZM180-400h160v-160H180v160Zm440 0h160v-160H620v160ZM180-180h160v-160H180v160Zm440 0h160v-160H620v160Z\"/>\n",
              "  </svg>\n",
              "    </button>\n",
              "\n",
              "  <style>\n",
              "    .colab-df-container {\n",
              "      display:flex;\n",
              "      gap: 12px;\n",
              "    }\n",
              "\n",
              "    .colab-df-convert {\n",
              "      background-color: #E8F0FE;\n",
              "      border: none;\n",
              "      border-radius: 50%;\n",
              "      cursor: pointer;\n",
              "      display: none;\n",
              "      fill: #1967D2;\n",
              "      height: 32px;\n",
              "      padding: 0 0 0 0;\n",
              "      width: 32px;\n",
              "    }\n",
              "\n",
              "    .colab-df-convert:hover {\n",
              "      background-color: #E2EBFA;\n",
              "      box-shadow: 0px 1px 2px rgba(60, 64, 67, 0.3), 0px 1px 3px 1px rgba(60, 64, 67, 0.15);\n",
              "      fill: #174EA6;\n",
              "    }\n",
              "\n",
              "    .colab-df-buttons div {\n",
              "      margin-bottom: 4px;\n",
              "    }\n",
              "\n",
              "    [theme=dark] .colab-df-convert {\n",
              "      background-color: #3B4455;\n",
              "      fill: #D2E3FC;\n",
              "    }\n",
              "\n",
              "    [theme=dark] .colab-df-convert:hover {\n",
              "      background-color: #434B5C;\n",
              "      box-shadow: 0px 1px 3px 1px rgba(0, 0, 0, 0.15);\n",
              "      filter: drop-shadow(0px 1px 2px rgba(0, 0, 0, 0.3));\n",
              "      fill: #FFFFFF;\n",
              "    }\n",
              "  </style>\n",
              "\n",
              "    <script>\n",
              "      const buttonEl =\n",
              "        document.querySelector('#df-ad450b59-e074-4b77-b0b3-a81b2080def8 button.colab-df-convert');\n",
              "      buttonEl.style.display =\n",
              "        google.colab.kernel.accessAllowed ? 'block' : 'none';\n",
              "\n",
              "      async function convertToInteractive(key) {\n",
              "        const element = document.querySelector('#df-ad450b59-e074-4b77-b0b3-a81b2080def8');\n",
              "        const dataTable =\n",
              "          await google.colab.kernel.invokeFunction('convertToInteractive',\n",
              "                                                    [key], {});\n",
              "        if (!dataTable) return;\n",
              "\n",
              "        const docLinkHtml = 'Like what you see? Visit the ' +\n",
              "          '<a target=\"_blank\" href=https://colab.research.google.com/notebooks/data_table.ipynb>data table notebook</a>'\n",
              "          + ' to learn more about interactive tables.';\n",
              "        element.innerHTML = '';\n",
              "        dataTable['output_type'] = 'display_data';\n",
              "        await google.colab.output.renderOutput(dataTable, element);\n",
              "        const docLink = document.createElement('div');\n",
              "        docLink.innerHTML = docLinkHtml;\n",
              "        element.appendChild(docLink);\n",
              "      }\n",
              "    </script>\n",
              "  </div>\n",
              "\n",
              "\n",
              "    <div id=\"df-d433b328-ffb4-4a75-afc0-3604ab5ca5c7\">\n",
              "      <button class=\"colab-df-quickchart\" onclick=\"quickchart('df-d433b328-ffb4-4a75-afc0-3604ab5ca5c7')\"\n",
              "                title=\"Suggest charts\"\n",
              "                style=\"display:none;\">\n",
              "\n",
              "<svg xmlns=\"http://www.w3.org/2000/svg\" height=\"24px\"viewBox=\"0 0 24 24\"\n",
              "     width=\"24px\">\n",
              "    <g>\n",
              "        <path d=\"M19 3H5c-1.1 0-2 .9-2 2v14c0 1.1.9 2 2 2h14c1.1 0 2-.9 2-2V5c0-1.1-.9-2-2-2zM9 17H7v-7h2v7zm4 0h-2V7h2v10zm4 0h-2v-4h2v4z\"/>\n",
              "    </g>\n",
              "</svg>\n",
              "      </button>\n",
              "\n",
              "<style>\n",
              "  .colab-df-quickchart {\n",
              "      --bg-color: #E8F0FE;\n",
              "      --fill-color: #1967D2;\n",
              "      --hover-bg-color: #E2EBFA;\n",
              "      --hover-fill-color: #174EA6;\n",
              "      --disabled-fill-color: #AAA;\n",
              "      --disabled-bg-color: #DDD;\n",
              "  }\n",
              "\n",
              "  [theme=dark] .colab-df-quickchart {\n",
              "      --bg-color: #3B4455;\n",
              "      --fill-color: #D2E3FC;\n",
              "      --hover-bg-color: #434B5C;\n",
              "      --hover-fill-color: #FFFFFF;\n",
              "      --disabled-bg-color: #3B4455;\n",
              "      --disabled-fill-color: #666;\n",
              "  }\n",
              "\n",
              "  .colab-df-quickchart {\n",
              "    background-color: var(--bg-color);\n",
              "    border: none;\n",
              "    border-radius: 50%;\n",
              "    cursor: pointer;\n",
              "    display: none;\n",
              "    fill: var(--fill-color);\n",
              "    height: 32px;\n",
              "    padding: 0;\n",
              "    width: 32px;\n",
              "  }\n",
              "\n",
              "  .colab-df-quickchart:hover {\n",
              "    background-color: var(--hover-bg-color);\n",
              "    box-shadow: 0 1px 2px rgba(60, 64, 67, 0.3), 0 1px 3px 1px rgba(60, 64, 67, 0.15);\n",
              "    fill: var(--button-hover-fill-color);\n",
              "  }\n",
              "\n",
              "  .colab-df-quickchart-complete:disabled,\n",
              "  .colab-df-quickchart-complete:disabled:hover {\n",
              "    background-color: var(--disabled-bg-color);\n",
              "    fill: var(--disabled-fill-color);\n",
              "    box-shadow: none;\n",
              "  }\n",
              "\n",
              "  .colab-df-spinner {\n",
              "    border: 2px solid var(--fill-color);\n",
              "    border-color: transparent;\n",
              "    border-bottom-color: var(--fill-color);\n",
              "    animation:\n",
              "      spin 1s steps(1) infinite;\n",
              "  }\n",
              "\n",
              "  @keyframes spin {\n",
              "    0% {\n",
              "      border-color: transparent;\n",
              "      border-bottom-color: var(--fill-color);\n",
              "      border-left-color: var(--fill-color);\n",
              "    }\n",
              "    20% {\n",
              "      border-color: transparent;\n",
              "      border-left-color: var(--fill-color);\n",
              "      border-top-color: var(--fill-color);\n",
              "    }\n",
              "    30% {\n",
              "      border-color: transparent;\n",
              "      border-left-color: var(--fill-color);\n",
              "      border-top-color: var(--fill-color);\n",
              "      border-right-color: var(--fill-color);\n",
              "    }\n",
              "    40% {\n",
              "      border-color: transparent;\n",
              "      border-right-color: var(--fill-color);\n",
              "      border-top-color: var(--fill-color);\n",
              "    }\n",
              "    60% {\n",
              "      border-color: transparent;\n",
              "      border-right-color: var(--fill-color);\n",
              "    }\n",
              "    80% {\n",
              "      border-color: transparent;\n",
              "      border-right-color: var(--fill-color);\n",
              "      border-bottom-color: var(--fill-color);\n",
              "    }\n",
              "    90% {\n",
              "      border-color: transparent;\n",
              "      border-bottom-color: var(--fill-color);\n",
              "    }\n",
              "  }\n",
              "</style>\n",
              "\n",
              "      <script>\n",
              "        async function quickchart(key) {\n",
              "          const quickchartButtonEl =\n",
              "            document.querySelector('#' + key + ' button');\n",
              "          quickchartButtonEl.disabled = true;  // To prevent multiple clicks.\n",
              "          quickchartButtonEl.classList.add('colab-df-spinner');\n",
              "          try {\n",
              "            const charts = await google.colab.kernel.invokeFunction(\n",
              "                'suggestCharts', [key], {});\n",
              "          } catch (error) {\n",
              "            console.error('Error during call to suggestCharts:', error);\n",
              "          }\n",
              "          quickchartButtonEl.classList.remove('colab-df-spinner');\n",
              "          quickchartButtonEl.classList.add('colab-df-quickchart-complete');\n",
              "        }\n",
              "        (() => {\n",
              "          let quickchartButtonEl =\n",
              "            document.querySelector('#df-d433b328-ffb4-4a75-afc0-3604ab5ca5c7 button');\n",
              "          quickchartButtonEl.style.display =\n",
              "            google.colab.kernel.accessAllowed ? 'block' : 'none';\n",
              "        })();\n",
              "      </script>\n",
              "    </div>\n",
              "\n",
              "    </div>\n",
              "  </div>\n"
            ],
            "application/vnd.google.colaboratory.intrinsic+json": {
              "type": "dataframe",
              "variable_name": "imdb"
            }
          },
          "metadata": {},
          "execution_count": 3
        }
      ]
    },
    {
      "cell_type": "code",
      "source": [
        "import ast\n",
        "\n",
        "cols = ['input_ids', 'token_type_ids', 'attention_mask', 'mlm_labels']\n",
        "\n",
        "# Parse list-like strings in the selected columns into actual Python lists\n",
        "for col in cols:\n",
        "    imdb[col] = imdb[col].apply(ast.literal_eval)\n",
        "\n",
        "type(imdb.iloc[1]['input_ids'])"
      ],
      "metadata": {
        "colab": {
          "base_uri": "https://localhost:8080/"
        },
        "id": "f2o_h7piSlzv",
        "outputId": "23b22b12-c431-43f1-c18c-124758f2f494"
      },
      "execution_count": null,
      "outputs": [
        {
          "output_type": "execute_result",
          "data": {
            "text/plain": [
              "list"
            ]
          },
          "metadata": {},
          "execution_count": 4
        }
      ]
    },
    {
      "cell_type": "markdown",
      "source": [
        "The data is stored in a pandas DataFrame. To use it with the BERT model, we need to load it into a PyTorch `DataLoader`. This involves three steps:\n",
        "\n",
        "1.   Convert the DataFrame into a PyTorch `Dataset`.\n",
        "2.   Define a custom collate function.\n",
        "3.   Wrap the dataset in a `DataLoader`."
      ],
      "metadata": {
        "id": "2qWUIqtyGmnZ"
      }
    },
    {
      "cell_type": "code",
      "source": [
        "# Define a BERT_Dataset class\n",
        "class BERT_Dataset(Dataset):\n",
        "    def __init__(self, data):\n",
        "        self.data = data\n",
        "\n",
        "    def __len__(self):\n",
        "        return len(self.data)\n",
        "\n",
        "    def __getitem__(self, idx):\n",
        "        # Locate the row in the dataframe using the index\n",
        "        row = self.data.iloc[idx]\n",
        "\n",
        "        # Extract values from the row and convert them to torch tensors\n",
        "        input_ids = torch.tensor(row['input_ids'], dtype=torch.long)\n",
        "        token_type_ids = torch.tensor(row['token_type_ids'], dtype=torch.long)\n",
        "        attention_mask = torch.tensor(row['attention_mask'], dtype=torch.long)\n",
        "        mlm_labels = torch.tensor(row['mlm_labels'], dtype=torch.long)\n",
        "        nsp_labels = torch.tensor(row['nsp_labels'], dtype=torch.long)\n",
        "\n",
        "        return input_ids, token_type_ids, attention_mask, mlm_labels, nsp_labels"
      ],
      "metadata": {
        "id": "1D4RANHPOhaP"
      },
      "execution_count": null,
      "outputs": []
    },
    {
      "cell_type": "code",
      "source": [
        "# Split the data into training and test set\n",
        "imdb_train_df, imdb_test_df = train_test_split(imdb, test_size=0.2, shuffle=False)\n",
        "\n",
        "# Create BERT_Dataset instances for training and test sets\n",
        "imdb_train = BERT_Dataset(imdb_train_df)\n",
        "imdb_test = BERT_Dataset(imdb_test_df)\n",
        "\n",
        "imdb_train[0]"
      ],
      "metadata": {
        "colab": {
          "base_uri": "https://localhost:8080/"
        },
        "id": "zc-uJB8D4-I6",
        "outputId": "4fb19632-eedf-4a28-b07f-e939c817c45f"
      },
      "execution_count": null,
      "outputs": [
        {
          "output_type": "execute_result",
          "data": {
            "text/plain": [
              "(tensor([  101,   103,  4872,  2017,  2008,  2065,  2017,  2123,  1005,   103,\n",
              "          3046,  2000,  2202,  2023,  2143,  2200,  5667,   103,  3432,   103,\n",
              "          2009,   103,   103,  4024,  3643,  1010,  2017,  2097,  5247,  2531,\n",
              "          2781,  1999,  1037,   103, 22249,   103,  1012,   102,  2076,  2023,\n",
              "          2051,  1010,  1996, 11017,  1998,  9530, 13238,  2699,  2000, 20014,\n",
              "           103, 13701,  1996,  5292, 21112,   103,  4615,  1998,   103,  2008,\n",
              "          2016,  3696,  4981,  2437,  9530, 13238,  2014,  2797,  3187,  1998,\n",
              "         10211,  1012,   102,     0,     0,     0]),\n",
              " tensor([0, 0, 0, 0, 0, 0, 0, 0, 0, 0, 0, 0, 0, 0, 0, 0, 0, 0, 0, 0, 0, 0, 0, 0,\n",
              "         0, 0, 0, 0, 0, 0, 0, 0, 0, 0, 0, 0, 0, 0, 1, 1, 1, 1, 1, 1, 1, 1, 1, 1,\n",
              "         1, 1, 1, 1, 1, 1, 1, 1, 1, 1, 1, 1, 1, 1, 1, 1, 1, 1, 1, 1, 1, 1, 1, 1,\n",
              "         1, 0, 0, 0]),\n",
              " tensor([1, 1, 1, 1, 1, 1, 1, 1, 1, 1, 1, 1, 1, 1, 1, 1, 1, 1, 1, 1, 1, 1, 1, 1,\n",
              "         1, 1, 1, 1, 1, 1, 1, 1, 1, 1, 1, 1, 1, 1, 1, 1, 1, 1, 1, 1, 1, 1, 1, 1,\n",
              "         1, 1, 1, 1, 1, 1, 1, 1, 1, 1, 1, 1, 1, 1, 1, 1, 1, 1, 1, 1, 1, 1, 1, 1,\n",
              "         1, 0, 0, 0]),\n",
              " tensor([    0,  1045,     0,     0,     0,     0,     0,     0,     0,  1056,\n",
              "             0,     0,     0,     0,     0,     0,     0,  1998,     0,  3422,\n",
              "             0,  2005,  1996,     0,     0,     0,     0,     0,     0,     0,\n",
              "             0,     0,     0,  2087,     0,  5450,     0,     0,     0,     0,\n",
              "             0,     0,     0,     0,     0,     0,     0,     0,     0,     0,\n",
              "         27605, 13701,     0,     0,     0,  2015,     0,     0,  7278,     0,\n",
              "             0,     0,     0,     0,     0,     0,     0,     0,     0,     0,\n",
              "             0,     0,     0,     0,     0,     0]),\n",
              " tensor(0))"
            ]
          },
          "metadata": {},
          "execution_count": 6
        }
      ]
    },
    {
      "cell_type": "code",
      "source": [
        "# Define a custom collate function\n",
        "def collate_fn(batch):\n",
        "    input_ids_b, token_type_ids_b, attention_mask_b, mlm_labels_b, nsp_labels_b = [], [], [], [], []\n",
        "\n",
        "    # Append each input to the respective batch list, truncate sequence longer than 512\n",
        "    for input_ids, token_type_ids, attention_mask, mlm_labels, nsp_labels in batch:\n",
        "        if len(input_ids) > 512:\n",
        "            input_ids = input_ids[:512]\n",
        "            token_type_ids = token_type_ids[:512]\n",
        "            attention_mask = attention_mask[:512]\n",
        "            mlm_labels = mlm_labels[:512]\n",
        "\n",
        "        input_ids_b.append(input_ids)\n",
        "        token_type_ids_b.append(token_type_ids)\n",
        "        attention_mask_b.append(attention_mask)\n",
        "        mlm_labels_b.append(mlm_labels)\n",
        "        nsp_labels_b.append(nsp_labels)\n",
        "\n",
        "    # Pad the sequence in the batch with '[PAD]' index (0)\n",
        "    input_ids_b = pad_sequence(input_ids_b, padding_value=0, batch_first=True)\n",
        "    token_type_ids_b = pad_sequence(token_type_ids_b, padding_value=0, batch_first=True)\n",
        "    attention_mask_b = pad_sequence(attention_mask_b, padding_value=0, batch_first=True)\n",
        "    mlm_labels_b = pad_sequence(mlm_labels_b, padding_value=0, batch_first=True)\n",
        "    nsp_labels_b = torch.tensor(nsp_labels_b, dtype=torch.long)\n",
        "\n",
        "    return input_ids_b, token_type_ids_b, attention_mask_b, mlm_labels_b, nsp_labels_b"
      ],
      "metadata": {
        "id": "E7J1ZZJgG9Qe"
      },
      "execution_count": null,
      "outputs": []
    },
    {
      "cell_type": "markdown",
      "source": [
        "**The original BERT paper uses a batch size of 256 in pre-training, but we use 4 here to prevent running out of GPU memory.**"
      ],
      "metadata": {
        "id": "r77-elq3p4Ao"
      }
    },
    {
      "cell_type": "code",
      "source": [
        "# Wrap the datasets in dataloaders\n",
        "BATCH_SIZE = 4\n",
        "\n",
        "train_dataloader = DataLoader(imdb_train, batch_size=BATCH_SIZE, shuffle=True, collate_fn=collate_fn)\n",
        "test_dataloader = DataLoader(imdb_test, batch_size=BATCH_SIZE, shuffle=False, collate_fn=collate_fn)\n",
        "\n",
        "print(f\"Number of training batches: {len(train_dataloader)}\")\n",
        "print(f\"Number of test batches: {len(test_dataloader)}\")"
      ],
      "metadata": {
        "colab": {
          "base_uri": "https://localhost:8080/"
        },
        "id": "nN3q1RL4ZV3P",
        "outputId": "00ee1d4f-5e4b-4a9a-9055-f45c348af143"
      },
      "execution_count": null,
      "outputs": [
        {
          "output_type": "stream",
          "name": "stdout",
          "text": [
            "Number of training batches: 39530\n",
            "Number of test batches: 9883\n"
          ]
        }
      ]
    },
    {
      "cell_type": "markdown",
      "source": [
        "### Model Implementation.\n",
        "\n",
        "**Model Architecture**  \n",
        "\n",
        "![BERT Architecture.png](data:image/png;base64,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)"
      ],
      "metadata": {
        "id": "3uz1D40LsTyf"
      }
    },
    {
      "cell_type": "markdown",
      "source": [
        "The BERT Model consists of three key components:\n",
        "\n",
        "1. **Embedding Layer**:  \n",
        "* Token embedding + Positional embedding + Token Type tmbedding.\n",
        "\n",
        "2. **Transformer Block**:  \n",
        "* Each block contains:\n",
        "    * Multi-head attention\n",
        "    * Feed-forward module\n",
        "    * Residual connections and layer normalization applied after each sub-layer\n",
        "* Repeated **N** times depending on model size: 12 for *BERT-base*, and 24 for *BERT-large*.\n",
        "\n",
        "3. **Output Layer**:  \n",
        "* Masked Language Modeling (MLM) head.   \n",
        "* Next Sentence Prediction (NSP) head\n"
      ],
      "metadata": {
        "id": "TdeGo2gzyMzK"
      }
    },
    {
      "cell_type": "markdown",
      "source": [
        "##### **Model Parameters**\n",
        "\n",
        "We set the parameters of all modules to match the **BERT-base** model described in the original BERT paper:\n",
        "\n",
        "* Vocabulary size: 30522\n",
        "\n",
        "* Maximum sequence length: 512\n",
        "\n",
        "* Hidden size (embedding dimension): 768\n",
        "\n",
        "* Number of self-attention heads: 12\n",
        "\n",
        "* Number of layers (Transformer blocks): 12\n",
        "\n",
        "* Dropout rate: 0.1\n",
        "\n",
        "* Feed-forward dimension: 3072\n",
        "\n",
        "* Activation function: GELU\n",
        "\n",
        "* Optimizer: Adam\n",
        "\n",
        "* Max learning rate: 1e-4\n"
      ],
      "metadata": {
        "id": "C9ym6RrlHlyj"
      }
    },
    {
      "cell_type": "code",
      "source": [
        "# Multi_Head_Attention module for BERT (encoder-style Transformer Block)\n",
        "class Multi_Head_Attention(nn.Module):\n",
        "    # Set the parameters to align with the BERT base model\n",
        "    def __init__(self, num_heads=12, d_model=768, dropout=0.1):\n",
        "        super().__init__()\n",
        "        assert d_model % num_heads == 0\n",
        "\n",
        "        self.num_heads = num_heads\n",
        "        self.d_model = d_model\n",
        "        self.d_k = d_model // num_heads     # head size of each scaled dot-product attention\n",
        "\n",
        "        # Linear projection for Q, K, V\n",
        "        self.W_q = nn.Linear(d_model, d_model)\n",
        "        self.W_k = nn.Linear(d_model, d_model)\n",
        "        self.W_v = nn.Linear(d_model, d_model)\n",
        "\n",
        "        # Linear projection for the concatenated scaled_dot_product_attention\n",
        "        self.W_o = nn.Linear(d_model, d_model)\n",
        "\n",
        "    def scaled_dot_product_attention(self, Q, K, V, attention_mask):\n",
        "        # Q, K, V: [batch_size, num_heads, seq_length, d_k]\n",
        "        # attention_mask: [batch_size, seq_length]\n",
        "\n",
        "        # Calculate attention score\n",
        "        attn_score = Q @ torch.transpose(K, -2, -1) / math.sqrt(self.d_k)   # [B, H, T, T]\n",
        "\n",
        "        # Expand and reshape the attention mask: [B, T] -> [B, 1, 1, T]\n",
        "        attention_mask = attention_mask.unsqueeze(1).unsqueeze(2)\n",
        "\n",
        "        # Convert attention mask: 1 -> 0 (keep), 0 -> large negative value (mask out)\n",
        "        extended_mask = (1.0 - attention_mask) * -1e9\n",
        "\n",
        "        # Add attention mask to the attention scores\n",
        "        attn_score = attn_score + extended_mask\n",
        "\n",
        "        # Apply softmax to get attention weight\n",
        "        attn_weight = attn_score.softmax(dim=-1)   # [B, H, T, T]\n",
        "\n",
        "        # Attention output\n",
        "        attn_output = attn_weight @ V       # [B, H, T, d_k]\n",
        "\n",
        "        return attn_output\n",
        "\n",
        "    def forward(self, x, attention_mask):\n",
        "        # x: [batch_size, seq_length, d_model]\n",
        "        # attention_mask: [batch_size, seq_length]\n",
        "\n",
        "        batch_size = x.shape[0]\n",
        "\n",
        "        # Linear projection and reshape -> [B, H, T, d_k]\n",
        "        Q = self.W_q(x).view(batch_size, -1, self.num_heads, self.d_k).transpose(1, 2)\n",
        "        K = self.W_k(x).view(batch_size, -1, self.num_heads, self.d_k).transpose(1, 2)\n",
        "        V = self.W_v(x).view(batch_size, -1, self.num_heads, self.d_k).transpose(1, 2)\n",
        "\n",
        "        # Get scaled dot-product attention output\n",
        "        attn_output = self.scaled_dot_product_attention(Q, K, V, attention_mask)    # [B, H, T, d_k]\n",
        "\n",
        "        # Concat attention heads\n",
        "        concat_output = attn_output.transpose(1, 2).contiguous().view(batch_size, -1, self.d_model) # [B, T, E]\n",
        "\n",
        "        # Linear projection\n",
        "        output = self.W_o(concat_output)   # [B, T, E]\n",
        "\n",
        "        return output\n"
      ],
      "metadata": {
        "id": "0cI_aXvNcOdK"
      },
      "execution_count": null,
      "outputs": []
    },
    {
      "cell_type": "code",
      "source": [
        "# Feed_Forward module for BERT (encoder-style Transformer Block)\n",
        "class Feed_Forward(nn.Module):\n",
        "    def __init__(self, d_model=768, d_ff=3072, dropout=0.1):\n",
        "        super().__init__()\n",
        "        self.linear1 = nn.Linear(d_model, d_ff)\n",
        "        self.linear2 = nn.Linear(d_ff, d_model)\n",
        "        self.gelu = nn.GELU()\n",
        "\n",
        "    def forward(self, x):\n",
        "        # x shape: [batch_size, seq_length, d_model]\n",
        "\n",
        "        output = self.gelu(self.linear1(x))   # [B, T, d_ff]\n",
        "        output = self.linear2(output)    # [B, T, E]\n",
        "\n",
        "        return output"
      ],
      "metadata": {
        "id": "jzdDxRICkAJE"
      },
      "execution_count": null,
      "outputs": []
    },
    {
      "cell_type": "code",
      "source": [
        "# Transformer Encoder for BERT\n",
        "class Transformer_Encoder(nn.Module):\n",
        "    def __init__(self, num_heads=12, d_model=768, d_ff=3072, dropout=0.1):\n",
        "        super().__init__()\n",
        "\n",
        "        # Multi-Head Attention module\n",
        "        self.multi_head_Attn = Multi_Head_Attention(num_heads, d_model, dropout)\n",
        "\n",
        "        # Feed-Forward module\n",
        "        self.feed_forward = Feed_Forward(d_model, d_ff, dropout)\n",
        "\n",
        "        # Dropout and LayerNorm applied after Multi-head attention\n",
        "        self.dropout_1 = nn.Dropout(p=dropout)\n",
        "        self.layer_norm1 = nn.LayerNorm(d_model)\n",
        "\n",
        "        # Dropout and LayerNorm applied after feed-forward module\n",
        "        self.dropout_2 = nn.Dropout(p=dropout)\n",
        "        self.layer_norm2 = nn.LayerNorm(d_model)\n",
        "\n",
        "\n",
        "    def forward(self, x, attention_mask):\n",
        "        # Multi-Head Attention\n",
        "        output = self.multi_head_Attn(x, attention_mask)\n",
        "\n",
        "        # Dropout\n",
        "        output = self.dropout_1(output)\n",
        "\n",
        "        # Add & Norm\n",
        "        resid_output1 = self.layer_norm1(output + x)\n",
        "\n",
        "        # Feed-Forward\n",
        "        output = self.feed_forward(resid_output1)\n",
        "\n",
        "        # Dropout\n",
        "        output = self.dropout_2(output)\n",
        "\n",
        "        # Add & Norm\n",
        "        resid_output2 = self.layer_norm2 (output + resid_output1)\n",
        "\n",
        "        return resid_output2"
      ],
      "metadata": {
        "id": "PRvLvG8rHAqA"
      },
      "execution_count": null,
      "outputs": []
    },
    {
      "cell_type": "code",
      "source": [
        "class BERT_Model(nn.Module):\n",
        "    def __init__(self, vocab_size=30522, num_layers=12, num_heads=12, d_model=768, d_ff=3072, max_seq_len=512, dropout=0.1):\n",
        "        super().__init__()\n",
        "\n",
        "        # Embeddings\n",
        "        self.token_embedding = nn.Embedding(vocab_size, d_model)\n",
        "        self.positional_embedding = nn.Embedding(max_seq_len, d_model)\n",
        "        self.token_type_embedding = nn.Embedding(2, d_model)\n",
        "\n",
        "        # LayerNorm and dropout applied on embeddings\n",
        "        self.layer_norm = nn.LayerNorm(d_model)\n",
        "        self.dropout = nn.Dropout(p=dropout)\n",
        "\n",
        "        # Transformer encoder\n",
        "        transformer_encoder = Transformer_Encoder(num_heads, d_model, d_ff, dropout)\n",
        "        self.transformer_block = nn.ModuleList([copy.deepcopy(transformer_encoder) for _ in range(num_layers)])\n",
        "\n",
        "\n",
        "        # Output layer\n",
        "        self.mlm_linear = nn.Linear(d_model, vocab_size)\n",
        "        self.nsp_linear = nn.Linear(d_model, 2)\n",
        "\n",
        "    def forward(self, input_ids, token_type_ids, attention_mask):\n",
        "        # input shape: [batch_size, seq_length]\n",
        "\n",
        "        # Embedding Layer\n",
        "        token_embedding = self.token_embedding(input_ids)\n",
        "        pos = torch.arange(0, input_ids.shape[1], dtype=torch.long, device=input_ids.device)\n",
        "        positional_embedding = self.positional_embedding(pos)\n",
        "        token_type_embedding = self.token_type_embedding(token_type_ids)\n",
        "        bert_embedding = token_embedding + positional_embedding + token_type_embedding  # [B, T, E]\n",
        "\n",
        "        output = self.dropout(self.layer_norm(bert_embedding))  # [B, T, E]\n",
        "\n",
        "        # Transformer Blocks\n",
        "        for encoder in self.transformer_block:\n",
        "            output = encoder(output, attention_mask)     # [B, T, E]\n",
        "\n",
        "        # MLM head: predict masked tokens\n",
        "        mlm_output = self.mlm_linear(output)        # [B, T, V]\n",
        "\n",
        "        # NSP head: predict next sentence using [CLS] embedding\n",
        "        nsp_output = self.nsp_linear(output[:, 0, :])  # [B, 2]\n",
        "\n",
        "        return mlm_output, nsp_output"
      ],
      "metadata": {
        "id": "eobWKAZu9Z-f"
      },
      "execution_count": null,
      "outputs": []
    },
    {
      "cell_type": "markdown",
      "source": [
        "### Training\n",
        "\n",
        "We train the model for **one epoch** on the prepared dataset, and report the **training and test loss** to verify that the implementation works end-to-end."
      ],
      "metadata": {
        "id": "sHngImm9sOhb"
      }
    },
    {
      "cell_type": "code",
      "source": [
        "# Instantiate a BERT model\n",
        "model = BERT_Model(vocab_size=30522,\n",
        "                   num_layers=12,\n",
        "                   num_heads=12,\n",
        "                   d_model=768,\n",
        "                   d_ff=3072,\n",
        "                   max_seq_len=512,\n",
        "                   dropout=0.1).to(device)\n",
        "\n",
        "# Define the optimizer\n",
        "optimizer = Adam(params=model.parameters(),\n",
        "                 lr=1e-4,\n",
        "                 weight_decay=0.01)\n",
        "\n",
        "# Define the learning rate schedule\n",
        "EPOCHS = 1\n",
        "training_steps = EPOCHS * len(train_dataloader)\n",
        "warmup_steps = int(training_steps * 0.01)\n",
        "lr_scheduler = get_linear_schedule_with_warmup(optimizer=optimizer,\n",
        "                                            num_warmup_steps=warmup_steps,\n",
        "                                            num_training_steps=training_steps)\n",
        "\n",
        "# Define the loss function\n",
        "mlm_loss = nn.CrossEntropyLoss(ignore_index=0)    # ignore '[PAD]' index\n",
        "nsp_loss = nn.CrossEntropyLoss()"
      ],
      "metadata": {
        "id": "foxmg83UkE-J"
      },
      "execution_count": null,
      "outputs": []
    },
    {
      "cell_type": "code",
      "source": [
        "# Define the training loop\n",
        "def training_loop(model, train_dataloader, test_dataloader, optimizer, lr_scheduler, mlm_loss_fn, nsp_loss_fn, epochs):\n",
        "    history = {'train_loss': [],\n",
        "               'test_loss': []}\n",
        "\n",
        "    for epoch in range(epochs):\n",
        "        # Set model to training mode\n",
        "        model.train()\n",
        "        train_loss = 0\n",
        "\n",
        "        # Iterate through the train_dataloader\n",
        "        for i, data in enumerate(train_dataloader):\n",
        "            input_ids = data[0].to(device)\n",
        "            token_type_ids = data[1].to(device)\n",
        "            attention_mask = data[2].to(device)\n",
        "            mlm_labels = data[3].to(device)\n",
        "            nsp_labels = data[4].to(device)\n",
        "\n",
        "            # Reset the gradients of the model's parameters to zero\n",
        "            optimizer.zero_grad()\n",
        "\n",
        "            # Forward pass\n",
        "            mlm_output, nsp_output = model(input_ids, token_type_ids, attention_mask)\n",
        "\n",
        "            # Calculate the train loss\n",
        "            mlm_loss = mlm_loss_fn(mlm_output.view(-1, mlm_output.shape[-1]), mlm_labels.view(-1))\n",
        "            nsp_loss = nsp_loss_fn(nsp_output, nsp_labels)\n",
        "            loss = mlm_loss + nsp_loss\n",
        "            train_loss += loss.item()\n",
        "\n",
        "            # Back propagation(computes the gradients)\n",
        "            loss.backward()\n",
        "\n",
        "            # Clip the gradient norm of the parameters to prevent the exploding gradient problem\n",
        "            nn.utils.clip_grad_norm_(model.parameters(), max_norm=1.0)\n",
        "\n",
        "            # Updates the model's parameters based on the gradients\n",
        "            optimizer.step()\n",
        "\n",
        "            # Updates the learning rate of the optimizer based on the predefined schedule\n",
        "            lr_scheduler.step()\n",
        "\n",
        "        train_loss /= len(train_dataloader)\n",
        "        history['train_loss'].append(train_loss)\n",
        "\n",
        "        # Set model to evaluation mode\n",
        "        model.eval()\n",
        "        test_loss = 0\n",
        "\n",
        "        # Iterate through the test_dataloader\n",
        "        for i, data in enumerate(test_dataloader):\n",
        "            input_ids = data[0].to(device)\n",
        "            token_type_ids = data[1].to(device)\n",
        "            attention_mask = data[2].to(device)\n",
        "            mlm_labels = data[3].to(device)\n",
        "            nsp_labels = data[4].to(device)\n",
        "\n",
        "            # Forward pass\n",
        "            mlm_output, nsp_output = model(input_ids, token_type_ids, attention_mask)\n",
        "\n",
        "            # Calculate the test loss\n",
        "            mlm_loss = mlm_loss_fn(mlm_output.view(-1, mlm_output.shape[-1]), mlm_labels.view(-1))\n",
        "            nsp_loss = nsp_loss_fn(nsp_output, nsp_labels)\n",
        "            loss = mlm_loss + nsp_loss\n",
        "            test_loss += loss.item()\n",
        "\n",
        "        test_loss /= len(test_dataloader)\n",
        "        history['test_loss'].append(test_loss)\n",
        "\n",
        "    print(f\"Epoch {epoch} | Train Loss: {train_loss:.4f} | Test Loss: {test_loss:.4f}\")\n",
        "    return history"
      ],
      "metadata": {
        "id": "ybmiPbxIkFAZ"
      },
      "execution_count": null,
      "outputs": []
    },
    {
      "cell_type": "code",
      "source": [
        "# Train the model for one epoch and print out the training and test loss\n",
        "history = training_loop(model=model,\n",
        "                        train_dataloader=train_dataloader,\n",
        "                        test_dataloader=test_dataloader,\n",
        "                        optimizer=optimizer,\n",
        "                        lr_scheduler=lr_scheduler,\n",
        "                        mlm_loss_fn=mlm_loss,\n",
        "                        nsp_loss_fn=nsp_loss,\n",
        "                        epochs=EPOCHS)\n"
      ],
      "metadata": {
        "colab": {
          "base_uri": "https://localhost:8080/"
        },
        "id": "GXZ-rpL1kFCn",
        "outputId": "d69da643-cfdf-4593-bc52-203b1b454b27"
      },
      "execution_count": null,
      "outputs": [
        {
          "output_type": "stream",
          "name": "stdout",
          "text": [
            "Epoch 0 | Train Loss: 7.8472 | Test Loss: 7.7364\n"
          ]
        }
      ]
    },
    {
      "cell_type": "code",
      "source": [
        "history"
      ],
      "metadata": {
        "colab": {
          "base_uri": "https://localhost:8080/"
        },
        "id": "kyNJm7lEE25D",
        "outputId": "30a66396-9b31-4a17-898e-1974ccb55f19"
      },
      "execution_count": null,
      "outputs": [
        {
          "output_type": "execute_result",
          "data": {
            "text/plain": [
              "{'train_loss': [7.8472014594856105], 'test_loss': [7.736381924756683]}"
            ]
          },
          "metadata": {},
          "execution_count": 16
        }
      ]
    },
    {
      "cell_type": "markdown",
      "source": [
        "### Reference\n",
        "\n",
        "* Devlin, Jacob, et al. \"[Bert: Pre-training of deep bidirectional transformers for language understanding.](https://arxiv.org/abs/1810.04805)\" Proceedings of the 2019 conference of the North American chapter of the association for computational linguistics: human language technologies, volume 1 (long and short papers). 2019.\n",
        "* Vaswani, Ashish, et al. \"[Attention is all you need.](https://arxiv.org/abs/1706.03762)\" Advances in neural information processing systems 30 (2017).\n",
        "* Adrian Tam. [Linear Layers and Activation Functions in Transformer Models.](https://machinelearningmastery.com/linear-layers-and-activation-functions-in-transformer-models/) 2025"
      ],
      "metadata": {
        "id": "yzQelcxFse-b"
      }
    }
  ]
}